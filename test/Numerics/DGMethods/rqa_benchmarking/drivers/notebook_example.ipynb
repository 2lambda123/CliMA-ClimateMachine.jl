{
 "cells": [
  {
   "cell_type": "code",
   "execution_count": 1,
   "metadata": {},
   "outputs": [],
   "source": [
    "include(\"../interface/utilities/boilerplate.jl\")"
   ]
  },
  {
   "cell_type": "code",
   "execution_count": 2,
   "metadata": {},
   "outputs": [
    {
     "name": "stderr",
     "output_type": "stream",
     "text": [
      "┌ Info: Precompiling Plots [91a5bcdd-55d7-5caf-9e0b-520d859cae80]\n",
      "└ @ Base loading.jl:1278\n"
     ]
    }
   ],
   "source": [
    "using Plots"
   ]
  },
  {
   "cell_type": "markdown",
   "metadata": {},
   "source": [
    "# Model parameters"
   ]
  },
  {
   "cell_type": "code",
   "execution_count": 2,
   "metadata": {},
   "outputs": [],
   "source": [
    "parameters = (\n",
    "    ρₒ = 1.0,  # reference density\n",
    "    cₛ = 1e-2, # sound speed\n",
    "    ℓᵐ = 10,   # jet thickness, (larger is thinner)\n",
    "    ℓ  = 20,   # perturbation thickness, (larger is thinner)\n",
    "    m  = 2,    # number of sign changes on equator for perturbation\n",
    "    ϕᵖ = π/2 * 0.05, # of centerdness of perturbation\n",
    "    ϵ  = 0.3,  # perturbation amplitude\n",
    "    vˢ = 5e-4, # velocity scale\n",
    "    α  = 2e-4,\n",
    "    Ω  = 1e-3,\n",
    ");"
   ]
  },
  {
   "cell_type": "markdown",
   "metadata": {},
   "source": [
    "# Domain setup"
   ]
  },
  {
   "cell_type": "code",
   "execution_count": 3,
   "metadata": {},
   "outputs": [],
   "source": [
    "domain = SphericalShell(radius = 1.0, height = 0.2);\n",
    "grid = DiscretizedDomain(\n",
    "    domain;\n",
    "    elements              = (vertical = 1, horizontal = 8),\n",
    "    polynomial_order      = (vertical = 0, horizontal = 3),\n",
    "    overintegration_order = (vertical = 1, horizontal = 1),\n",
    ");"
   ]
  },
  {
   "cell_type": "markdown",
   "metadata": {},
   "source": [
    "# Physics setup"
   ]
  },
  {
   "cell_type": "code",
   "execution_count": 4,
   "metadata": {},
   "outputs": [],
   "source": [
    "physics = Physics(\n",
    "    orientation = SphericalOrientation(),\n",
    "    advection   = NonLinearAdvection(),\n",
    "    coriolis    = DeepShellCoriolis{Float64}(Ω = parameters.Ω),\n",
    "    gravity     = Buoyancy{Float64}(α = parameters.α, g = 0.0),\n",
    "    eos         = BarotropicFluid{Float64}(ρₒ = parameters.ρₒ, cₛ = parameters.cₛ),\n",
    ");"
   ]
  },
  {
   "cell_type": "markdown",
   "metadata": {},
   "source": [
    "# Initial conditions"
   ]
  },
  {
   "cell_type": "code",
   "execution_count": 5,
   "metadata": {},
   "outputs": [],
   "source": [
    "uᵐ(𝒫, λ, ϕ, r) =  𝒫.ℓᵐ * sech(𝒫.ℓᵐ * ϕ)^2 \n",
    "vᵐ(𝒫, λ, ϕ, r) =  0.0\n",
    "hᵐ(𝒫, λ, ϕ, r) =  0.0\n",
    "\n",
    "u1(𝒫, λ, ϕ, r) =  𝒫.ℓ * 2 * (ϕ - 𝒫.ϕᵖ)* exp(-𝒫.ℓ * (ϕ - 𝒫.ϕᵖ)^2) * cos(ϕ) * cos(2 * (ϕ - 𝒫.ϕᵖ)) * sin(𝒫.m * λ)\n",
    "u2(𝒫, λ, ϕ, r) =  exp(-𝒫.ℓ * (ϕ - 𝒫.ϕᵖ)^2) * sin(ϕ) * cos(2 * (ϕ - 𝒫.ϕᵖ)) * sin(𝒫.m * λ)\n",
    "u3(𝒫, λ, ϕ, r) =  2*exp(-𝒫.ℓ * (ϕ - 𝒫.ϕᵖ)^2) * cos(ϕ) * sin(2 * (ϕ - 𝒫.ϕᵖ)) * sin(𝒫.m * λ)\n",
    "uᵖ(𝒫, λ, ϕ, r) =  u1(𝒫, λ, ϕ, r) + u2(𝒫, λ, ϕ, r) + u3(𝒫, λ, ϕ, r)\n",
    "vᵖ(𝒫, λ, ϕ, r) =  𝒫.m * exp(-𝒫.ℓ * (ϕ - 𝒫.ϕᵖ)^2) * cos(2 * (ϕ - 𝒫.ϕᵖ)) * cos(𝒫.m * λ)\n",
    "hᵖ(𝒫, λ, ϕ, r) =  0.0\n",
    "\n",
    "ρ₀(𝒫, λ, ϕ, r)    = 𝒫.ρₒ \n",
    "ρuʳᵃᵈ(𝒫, λ, ϕ, r) = 0\n",
    "ρuˡᵃᵗ(𝒫, λ, ϕ, r) = 𝒫.vˢ * ρ₀(𝒫, λ, ϕ, r) * (𝒫.ϵ * vᵖ(𝒫, λ, ϕ, r))\n",
    "ρuˡᵒⁿ(𝒫, λ, ϕ, r) = 𝒫.vˢ * ρ₀(𝒫, λ, ϕ, r) * (uᵐ(𝒫, λ, ϕ, r) + 𝒫.ϵ * uᵖ(𝒫, λ, ϕ, r))\n",
    "ρθ₀(𝒫, λ, ϕ, r) = ρ₀(𝒫, λ, ϕ, r) * tanh(𝒫.ℓᵐ * ϕ);"
   ]
  },
  {
   "cell_type": "code",
   "execution_count": null,
   "metadata": {},
   "outputs": [],
   "source": []
  },
  {
   "cell_type": "code",
   "execution_count": 6,
   "metadata": {},
   "outputs": [
    {
     "data": {
      "text/plain": [
       "ρθ₀ᶜᵃʳᵗ (generic function with 1 method)"
      ]
     },
     "execution_count": 6,
     "metadata": {},
     "output_type": "execute_result"
    }
   ],
   "source": [
    "ρ₀ᶜᵃʳᵗ(𝒫, x...)  = ρ₀(𝒫, lon(x...), lat(x...), rad(x...))\n",
    "ρu⃗₀ᶜᵃʳᵗ(𝒫, x...) = (   ρuʳᵃᵈ(𝒫, lon(x...), lat(x...), rad(x...)) * r̂(x...) \n",
    "                     + ρuˡᵃᵗ(𝒫, lon(x...), lat(x...), rad(x...)) * ϕ̂(x...)\n",
    "                     + ρuˡᵒⁿ(𝒫, lon(x...), lat(x...), rad(x...)) * λ̂(x...) ) \n",
    "ρθ₀ᶜᵃʳᵗ(𝒫, x...) = ρθ₀(𝒫, lon(x...), lat(x...), rad(x...))"
   ]
  },
  {
   "cell_type": "markdown",
   "metadata": {},
   "source": [
    "# Boundary conditions"
   ]
  },
  {
   "cell_type": "code",
   "execution_count": 7,
   "metadata": {},
   "outputs": [],
   "source": [
    "bcs = (\n",
    "    bottom = (ρu = Impenetrable(FreeSlip()), ρθ = Insulating()),\n",
    "    top =    (ρu = Impenetrable(FreeSlip()), ρθ = Insulating()),\n",
    ");"
   ]
  },
  {
   "cell_type": "markdown",
   "metadata": {},
   "source": [
    "# Model setup"
   ]
  },
  {
   "cell_type": "code",
   "execution_count": 8,
   "metadata": {},
   "outputs": [],
   "source": [
    "model = ModelSetup(\n",
    "    physics = physics,\n",
    "    boundary_conditions = bcs,\n",
    "    initial_conditions = (ρ = ρ₀ᶜᵃʳᵗ, ρu = ρu⃗₀ᶜᵃʳᵗ, ρθ = ρθ₀ᶜᵃʳᵗ),\n",
    "    numerics = (grid = grid, flux = RoeNumericalFlux()),\n",
    "    parameters = parameters,\n",
    ");"
   ]
  },
  {
   "cell_type": "markdown",
   "metadata": {},
   "source": [
    "# Time stepping and callbacks"
   ]
  },
  {
   "cell_type": "code",
   "execution_count": 9,
   "metadata": {},
   "outputs": [],
   "source": [
    "Δt          = min_node_distance(grid.numerical) / parameters.cₛ * 0.25\n",
    "start_time  = 0\n",
    "end_time    = 8*1600.0\n",
    "callbacks   = (\n",
    "    Info(), \n",
    "    StateCheck(10), \n",
    "    VTKState(iteration = 160, filepath = \"./out/\"),\n",
    ");"
   ]
  },
  {
   "cell_type": "markdown",
   "metadata": {},
   "source": [
    "# Simulation setup"
   ]
  },
  {
   "cell_type": "code",
   "execution_count": 10,
   "metadata": {},
   "outputs": [],
   "source": [
    "simulation = Simulation(\n",
    "    model;\n",
    "    grid = grid,\n",
    "    timestepper = (method = SSPRK22Heuns, timestep = Δt),\n",
    "    time        = (start = start_time, finish = end_time),\n",
    "    callbacks   = callbacks,\n",
    ");"
   ]
  },
  {
   "cell_type": "markdown",
   "metadata": {},
   "source": [
    "# Run the things!"
   ]
  },
  {
   "cell_type": "code",
   "execution_count": null,
   "metadata": {},
   "outputs": [
    {
     "name": "stdout",
     "output_type": "stream",
     "text": [
      "# SC Start: creating state check callback\n",
      "# SC Creating state check callback labeled \"state\" for symbols\n",
      "# SC ρ\n",
      "# SC ρu\n",
      "# SC ρθ\n",
      "# SC Finish: creating state check callback\n"
     ]
    },
    {
     "name": "stderr",
     "output_type": "stream",
     "text": [
      "\u001b[36m\u001b[1m┌ \u001b[22m\u001b[39m\u001b[36m\u001b[1mInfo: \u001b[22m\u001b[39mdoing VTK output\n",
      "\u001b[36m\u001b[1m└ \u001b[22m\u001b[39m  outprefix = \"./out//mpirank0000_step0000\"\n",
      "\u001b[36m\u001b[1m┌ \u001b[22m\u001b[39m\u001b[36m\u001b[1mInfo: \u001b[22m\u001b[39mdoing VTK output\n",
      "\u001b[36m\u001b[1m└ \u001b[22m\u001b[39m  outprefix = \"./out//mpirank0000_step0001\"\n",
      "\u001b[36m\u001b[1m┌ \u001b[22m\u001b[39m\u001b[36m\u001b[1mInfo: \u001b[22m\u001b[39mdoing VTK output\n",
      "\u001b[36m\u001b[1m└ \u001b[22m\u001b[39m  outprefix = \"./out//mpirank0000_step0002\"\n",
      "\u001b[36m\u001b[1m┌ \u001b[22m\u001b[39m\u001b[36m\u001b[1mInfo: \u001b[22m\u001b[39mdoing VTK output\n",
      "\u001b[36m\u001b[1m└ \u001b[22m\u001b[39m  outprefix = \"./out//mpirank0000_step0003\"\n"
     ]
    }
   ],
   "source": [
    "evolve!(simulation);"
   ]
  }
 ],
 "metadata": {
  "kernelspec": {
   "display_name": "Julia 1.5.3",
   "language": "julia",
   "name": "julia-1.5"
  },
  "language_info": {
   "file_extension": ".jl",
   "mimetype": "application/julia",
   "name": "julia",
   "version": "1.5.3"
  }
 },
 "nbformat": 4,
 "nbformat_minor": 2
}
